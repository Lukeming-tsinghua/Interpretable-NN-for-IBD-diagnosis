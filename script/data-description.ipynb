{
 "cells": [
  {
   "cell_type": "code",
   "execution_count": 21,
   "metadata": {},
   "outputs": [],
   "source": [
    "import numpy as np"
   ]
  },
  {
   "cell_type": "code",
   "execution_count": 14,
   "metadata": {},
   "outputs": [],
   "source": [
    "def load_tsv_data(path):\n",
    "    data = []\n",
    "    with open(path) as f:\n",
    "        line = f.readline()\n",
    "        while line:\n",
    "            items = line.replace(\"\\n\", \"\").split(\"\\t\")\n",
    "            data.append(items)\n",
    "            line = f.readline()\n",
    "    return data"
   ]
  },
  {
   "cell_type": "code",
   "execution_count": 19,
   "metadata": {},
   "outputs": [
    {
     "name": "stdout",
     "output_type": "stream",
     "text": [
      "5101 2659 1276 6377\n"
     ]
    }
   ],
   "source": [
    "train_path = \"data/train.tsv\"\n",
    "unsup_path = \"data/unsup.csv\"\n",
    "valid_path = \"data/valid.tsv\"\n",
    "train = load_tsv_data(train_path)\n",
    "unsup = load_tsv_data(unsup_path)\n",
    "valid = load_tsv_data(valid_path)\n",
    "total = train + valid\n",
    "print(len(train), len(unsup), len(valid), len(total))"
   ]
  },
  {
   "cell_type": "code",
   "execution_count": 27,
   "metadata": {},
   "outputs": [
    {
     "data": {
      "text/plain": [
       "[[5107, 874, 396], [4084, 692, 325], [1023, 182, 71]]"
      ]
     },
     "execution_count": 27,
     "metadata": {},
     "output_type": "execute_result"
    }
   ],
   "source": [
    "[[len([each for each in dataset if each[1]==str(i)]) for i in range(3)] for dataset in [total, train, valid]]"
   ]
  },
  {
   "cell_type": "code",
   "execution_count": 23,
   "metadata": {},
   "outputs": [
    {
     "data": {
      "text/plain": [
       "[154.3373800665753, 177.4508009153318, 162.81565656565655]"
      ]
     },
     "execution_count": 23,
     "metadata": {},
     "output_type": "execute_result"
    }
   ],
   "source": [
    "[np.mean([len(each[0]) for each in total if each[1]==str(i)]) for i in range(3)]"
   ]
  },
  {
   "cell_type": "code",
   "execution_count": 24,
   "metadata": {},
   "outputs": [
    {
     "data": {
      "text/plain": [
       "[50.122082589791766, 53.995851019093635, 47.7314547764257]"
      ]
     },
     "execution_count": 24,
     "metadata": {},
     "output_type": "execute_result"
    }
   ],
   "source": [
    "[np.std([len(each[0]) for each in total if each[1]==str(i)]) for i in range(3)]"
   ]
  }
 ],
 "metadata": {
  "kernelspec": {
   "display_name": "paddle",
   "language": "python",
   "name": "paddle"
  },
  "language_info": {
   "codemirror_mode": {
    "name": "ipython",
    "version": 3
   },
   "file_extension": ".py",
   "mimetype": "text/x-python",
   "name": "python",
   "nbconvert_exporter": "python",
   "pygments_lexer": "ipython3",
   "version": "3.7.9"
  }
 },
 "nbformat": 4,
 "nbformat_minor": 4
}
