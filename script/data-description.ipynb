{
 "cells": [
  {
   "cell_type": "code",
   "execution_count": 5,
   "metadata": {},
   "outputs": [],
   "source": [
    "import os\n",
    "import numpy as np"
   ]
  },
  {
   "cell_type": "code",
   "execution_count": 4,
   "metadata": {},
   "outputs": [],
   "source": [
    "def load_tsv_data(path):\n",
    "    data = []\n",
    "    with open(path) as f:\n",
    "        line = f.readline()\n",
    "        while line:\n",
    "            items = line.replace(\"\\n\", \"\").split(\"\\t\")\n",
    "            data.append(items)\n",
    "            line = f.readline()\n",
    "    return data"
   ]
  },
  {
   "cell_type": "code",
   "execution_count": 7,
   "metadata": {},
   "outputs": [
    {
     "name": "stdout",
     "output_type": "stream",
     "text": [
      "1016 7758 254 1270\n"
     ]
    }
   ],
   "source": [
    "path = \"../data/CR-JH\"\n",
    "train_path = os.path.join(path, \"train.tsv\")\n",
    "unsup_path = os.path.join(path, \"unsup.tsv\")\n",
    "valid_path = os.path.join(path, \"valid.tsv\")\n",
    "train = load_tsv_data(train_path)\n",
    "unsup = load_tsv_data(unsup_path)\n",
    "valid = load_tsv_data(valid_path)\n",
    "total = train + valid\n",
    "print(len(train), len(unsup), len(valid), len(total))"
   ]
  },
  {
   "cell_type": "code",
   "execution_count": 9,
   "metadata": {},
   "outputs": [
    {
     "data": {
      "text/plain": [
       "[[874, 396], [712, 304], [162, 92]]"
      ]
     },
     "execution_count": 9,
     "metadata": {},
     "output_type": "execute_result"
    }
   ],
   "source": [
    "[[len([each for each in dataset if each[1]==str(i)]) for i in range(2)] for dataset in [total, train, valid]]"
   ]
  },
  {
   "cell_type": "code",
   "execution_count": 10,
   "metadata": {},
   "outputs": [
    {
     "data": {
      "text/plain": [
       "[177.4508009153318, 162.81565656565655]"
      ]
     },
     "execution_count": 10,
     "metadata": {},
     "output_type": "execute_result"
    }
   ],
   "source": [
    "[np.mean([len(each[0]) for each in total if each[1]==str(i)]) for i in range(2)]"
   ]
  },
  {
   "cell_type": "code",
   "execution_count": 11,
   "metadata": {},
   "outputs": [
    {
     "data": {
      "text/plain": [
       "[53.995851019093635, 47.7314547764257]"
      ]
     },
     "execution_count": 11,
     "metadata": {},
     "output_type": "execute_result"
    }
   ],
   "source": [
    "[np.std([len(each[0]) for each in total if each[1]==str(i)]) for i in range(2)]"
   ]
  }
 ],
 "metadata": {
  "kernelspec": {
   "display_name": "paddle",
   "language": "python",
   "name": "paddle"
  },
  "language_info": {
   "codemirror_mode": {
    "name": "ipython",
    "version": 3
   },
   "file_extension": ".py",
   "mimetype": "text/x-python",
   "name": "python",
   "nbconvert_exporter": "python",
   "pygments_lexer": "ipython3",
   "version": "3.7.9"
  }
 },
 "nbformat": 4,
 "nbformat_minor": 4
}
